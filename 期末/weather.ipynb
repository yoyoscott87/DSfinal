{
 "cells": [
  {
   "cell_type": "code",
   "execution_count": 5,
   "metadata": {},
   "outputs": [],
   "source": [
    "import requests\n",
    "\n",
    "def get_current_weather(api_key, city):\n",
    "    url = f\"http://api.openweathermap.org/data/2.5/weather?q={city}&appid={api_key}&units=metric\"\n",
    "    response = requests.get(url)\n",
    "    data = response.json()\n",
    "    return data\n",
    "\n",
    "api_key = \"b55132e7d0d008aa945b18e4cd2f5a02\"\n",
    "city = \"London\"\n",
    "weather_data = get_current_weather(api_key, city)\n",
    "\n",
    "# 检查响应是否包含主要的天气数据\n",
    "if \"main\" in weather_data:\n",
    "    print(\"Current temperature:\", weather_data[\"main\"][\"temp\"], \"°C\")\n",
    "    print(\"Humidity:\", weather_data[\"main\"][\"humidity\"], \"%\")\n",
    "\n",
    "# 检查响应是否包含天气情况描述\n",
    "if \"weather\" in weather_data and len(weather_data[\"weather\"]) > 0:\n",
    "    print(\"Weather condition:\", weather_data[\"weather\"][0][\"description\"])"
   ]
  },
  {
   "cell_type": "code",
   "execution_count": 4,
   "metadata": {},
   "outputs": [
    {
     "name": "stdout",
     "output_type": "stream",
     "text": [
      "Weather: broken clouds\n",
      "Temperature: 28.3 °C\n",
      "Humidity: 78 %\n",
      "City: Taoyuan City\n"
     ]
    }
   ],
   "source": [
    "import requests\n",
    "\n",
    "def kelvin_to_celsius(kelvin):\n",
    "    return kelvin - 273.15\n",
    "\n",
    "def get_weather_by_coordinates(api_key, lat, lon):\n",
    "    url = f\"https://api.openweathermap.org/data/2.5/weather?lat={lat}&lon={lon}&appid={api_key}\"\n",
    "    response = requests.get(url)\n",
    "    data = response.json()\n",
    "    return data\n",
    "\n",
    "# 替换为你的 API Key\n",
    "api_key = \"b55132e7d0d008aa945b18e4cd2f5a02\"\n",
    "\n",
    "latitude = 24.9937\n",
    "longitude = 121.2969\n",
    "\n",
    "# 获取天气数据\n",
    "weather_data = get_weather_by_coordinates(api_key, latitude, longitude)\n",
    "\n",
    "temperature_celsius = round(kelvin_to_celsius(weather_data[\"main\"][\"temp\"]),1)\n",
    "\n",
    "# 打印天气信息\n",
    "print(\"Weather:\", weather_data[\"weather\"][0][\"description\"])\n",
    "print(\"Temperature:\", temperature_celsius, \"°C\")\n",
    "print(\"Humidity:\", weather_data[\"main\"][\"humidity\"], \"%\")\n",
    "print(\"City:\",weather_data[\"name\"])"
   ]
  },
  {
   "cell_type": "code",
   "execution_count": 3,
   "metadata": {},
   "outputs": [
    {
     "name": "stdout",
     "output_type": "stream",
     "text": [
      "{\n",
      "    \"coord\": {\n",
      "        \"lon\": 139.6918,\n",
      "        \"lat\": 35.6894\n",
      "    },\n",
      "    \"weather\": [\n",
      "        {\n",
      "            \"id\": 803,\n",
      "            \"main\": \"Clouds\",\n",
      "            \"description\": \"broken clouds\",\n",
      "            \"icon\": \"04d\"\n",
      "        }\n",
      "    ],\n",
      "    \"base\": \"stations\",\n",
      "    \"main\": {\n",
      "        \"temp\": 292.01,\n",
      "        \"feels_like\": 291.26,\n",
      "        \"temp_min\": 289.9,\n",
      "        \"temp_max\": 294.05,\n",
      "        \"pressure\": 1018,\n",
      "        \"humidity\": 50\n",
      "    },\n",
      "    \"visibility\": 10000,\n",
      "    \"wind\": {\n",
      "        \"speed\": 6.69,\n",
      "        \"deg\": 40\n",
      "    },\n",
      "    \"clouds\": {\n",
      "        \"all\": 75\n",
      "    },\n",
      "    \"dt\": 1715650715,\n",
      "    \"sys\": {\n",
      "        \"type\": 2,\n",
      "        \"id\": 268395,\n",
      "        \"country\": \"JP\",\n",
      "        \"sunrise\": 1715629026,\n",
      "        \"sunset\": 1715679492\n",
      "    },\n",
      "    \"timezone\": 32400,\n",
      "    \"id\": 1850144,\n",
      "    \"name\": \"Tokyo\",\n",
      "    \"cod\": 200\n",
      "}\n"
     ]
    }
   ],
   "source": [
    "import requests\n",
    "import json\n",
    "\n",
    "def get_weather_data(api_key, latitude, longitude):\n",
    "    url = f\"https://api.openweathermap.org/data/2.5/weather?lat={latitude}&lon={longitude}&appid={api_key}\"\n",
    "    response = requests.get(url)\n",
    "    if response.status_code == 200:\n",
    "        return response.json()\n",
    "    else:\n",
    "        print(\"Error:\", response.status_code)\n",
    "        return None\n",
    "\n",
    "api_key = \"b55132e7d0d008aa945b18e4cd2f5a02\"\n",
    "latitude = 35.689381\n",
    "longitude = 139.69181\n",
    "\n",
    "weather_data = get_weather_data(api_key, latitude, longitude)\n",
    "\n",
    "if weather_data:\n",
    "    print(json.dumps(weather_data, indent=4))  # 打印原始的 JSON 数据"
   ]
  },
  {
   "cell_type": "code",
   "execution_count": 8,
   "metadata": {},
   "outputs": [
    {
     "name": "stdout",
     "output_type": "stream",
     "text": [
      "Output directory: D:\\大學用\\資料結構\\期末\\results\n"
     ]
    }
   ],
   "source": [
    "import os\n",
    "\n",
    "# 确定新创建的目录路径\n",
    "results_dir = r'D:\\大學用\\資料結構\\期末\\results'\n",
    "\n",
    "# 创建目录\n",
    "os.makedirs(results_dir, exist_ok=True)\n",
    "\n",
    "# 设置 output_dir 为新创建的目录路径\n",
    "output_dir = results_dir\n",
    "\n",
    "# 打印出新创建的目录路径，以便确认\n",
    "print(f\"Output directory: {output_dir}\")\n"
   ]
  },
  {
   "cell_type": "code",
   "execution_count": 5,
   "metadata": {},
   "outputs": [],
   "source": [
    "def read_coordinates_from_file(file_path):\n",
    "    coordinates = {}\n",
    "    with open(file_path, 'r', encoding='utf-8') as file:\n",
    "        for line in file:\n",
    "            parts = line.strip().split(',')\n",
    "            place_name = parts[0]\n",
    "            latitude, longitude = map(float, parts[1:])\n",
    "            coordinates[place_name] = (latitude, longitude)\n",
    "    return coordinates\n",
    "\n",
    "def weather():\n",
    "    locations = read_coordinates_from_file('經緯度參考.txt')\n",
    "    print(\"Locations dictionary:\", locations)  # 添加这行打印语句\n",
    "    data = request.json\n",
    "    location_name = data.get('location')  # 获取城市名\n",
    "    if location_name in locations:\n",
    "        latitude, longitude = locations[location_name]\n",
    "        weather_data = get_weather_data(api_key, latitude, longitude)\n",
    "        temperature = weather_data[\"main\"][\"temp\"]\n",
    "        humidity = weather_data[\"main\"][\"humidity\"]\n",
    "        weather_description = weather_data[\"weather\"][0][\"description\"]\n",
    "        locweather_data = {\n",
    "            'city': location_name,\n",
    "            'weather_description': weather_description,\n",
    "            'temperature': temperature,\n",
    "            'humidity': humidity\n",
    "        }\n",
    "        return locweather_data\n"
   ]
  }
 ],
 "metadata": {
  "kernelspec": {
   "display_name": "Python 3",
   "language": "python",
   "name": "python3"
  },
  "language_info": {
   "codemirror_mode": {
    "name": "ipython",
    "version": 3
   },
   "file_extension": ".py",
   "mimetype": "text/x-python",
   "name": "python",
   "nbconvert_exporter": "python",
   "pygments_lexer": "ipython3",
   "version": "3.11.5"
  }
 },
 "nbformat": 4,
 "nbformat_minor": 2
}
